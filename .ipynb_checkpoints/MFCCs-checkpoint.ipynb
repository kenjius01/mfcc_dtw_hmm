{
 "cells": [
  {
   "cell_type": "code",
   "execution_count": 19,
   "id": "f92c224e-2569-45c2-b45a-929806f4458c",
   "metadata": {},
   "outputs": [],
   "source": [
    "\n",
    "import librosa\n",
    "import matplotlib.pyplot as plt\n",
    "import re\n",
    "import os\n",
    "import numpy as np\n",
    "import math\n",
    "from scipy.io import wavfile\n",
    "from pydub import AudioSegment"
   ]
  },
  {
   "cell_type": "code",
   "execution_count": 20,
   "id": "eb88646d-c36d-46ad-bfb7-8c8421348094",
   "metadata": {},
   "outputs": [],
   "source": [
    "def match_signal_file_with_label_track_file():\n",
    "    signal_and_label_track_pairs = list()\n",
    "    for _file in os.listdir(\"MFCC_feature/data_speech/\"):\n",
    "        if _file.endswith(\".wav\"):\n",
    "            signal_and_label_track_pairs.append({\"signal_path\": _file, \"label\": os.path.splitext(_file)[0] + \".txt\"})\n",
    "    return signal_and_label_track_pairs\n",
    "\n",
    "\n",
    "def get_signal_from_file(signal_file_name):\n",
    "    signal, fs = librosa.load(signal_file_name)\n",
    "    return signal, fs\n",
    "\n",
    "\n",
    "def show_signal(signal, label):\n",
    "    plt.plot(signal)\n",
    "    plt.xlabel(label)\n",
    "    plt.show()\n",
    "\n",
    "\n",
    "# Lay tung khau lenh don le trong file label\n",
    "\n",
    "def parse_track_file(label_track_file_name):\n",
    "    label_track_file = open(label_track_file_name)\n",
    "    label_track_file_line = label_track_file.readlines()\n",
    "    label_track_list = list();\n",
    "    for line in label_track_file_line:\n",
    "        label_item = re.split(r'\\s+', line);\n",
    "        label_track_list.append({\"timestamp_start\": float(label_item[0].replace(\",\", \".\")) * 1000,\n",
    "                                 \"timestamp_end\": float(label_item[1].replace(\",\", \".\")) * 1000,\n",
    "                                 \"label\": label_item[2]})\n",
    "    return label_track_list  # [\"timestamp_start\":0, \"timestamp_end\": 1234, \"label\": \"len\", \"label_id\"=}]\n",
    "\n",
    "\n",
    "# Ham tach file thanh cac file khau lenh don le\n",
    "\n",
    "def audio_segment(signal_file_name, label_track_file):\n",
    "    dataset = list()\n",
    "    file_number = (os.path.splitext(signal_file_name))[0][25:]\n",
    "    label_track_list = parse_track_file(label_track_file)\n",
    "    i = 0\n",
    "    for label_track in label_track_list:\n",
    "        try:\n",
    "            newAudio = AudioSegment.from_wav(signal_file_name);\n",
    "            newAudio = newAudio[label_track[\"timestamp_start\"]:label_track[\"timestamp_end\"]]\n",
    "            signal = \"MFCC_feature/data_output/\" + label_track[\"label\"] + \"/\" + file_number + '_' + label_track[\"label\"] + \"_\" + str(i) + \".wav\"\n",
    "            newAudio.export(signal, format=\"wav\")\n",
    "            dataset.append({\"signal_path\": signal, \"label\": label_track[\"label\"]})\n",
    "            i += 1\n",
    "        except FileNotFoundError:\n",
    "            print(\"Not able to segment %s file. File not found error\" % signal)\n",
    "    return dataset"
   ]
  },
  {
   "cell_type": "code",
   "execution_count": 21,
   "id": "7d9a7c2e-e054-4150-9e39-6fbf4fc9e1b3",
   "metadata": {},
   "outputs": [
    {
     "name": "stdout",
     "output_type": "stream",
     "text": [
      "It was created 1003 new .wav files, where each signal represents one word.\n"
     ]
    }
   ],
   "source": [
    "data = list()\n",
    "for pair in match_signal_file_with_label_track_file():\n",
    "    data += audio_segment(\"MFCC_feature/data_speech/\" + pair['signal_path'], \"MFCC_feature/data_speech/\" + pair['label'])\n",
    "\n",
    "print(\"It was created %s new .wav files, where each signal represents one word.\" % len(data))\n",
    "\n",
    "for d in data:\n",
    "    signal, fs = get_signal_from_file(d['signal_path'])\n",
    "    d[\"fs\"] = fs\n",
    "    d[\"signal\"] = signal\n"
   ]
  },
  {
   "cell_type": "code",
   "execution_count": 22,
   "id": "71a3c951-4a2e-483b-82ed-1cb0993f9e02",
   "metadata": {},
   "outputs": [],
   "source": [
    "# Ham trich xuat dac trung mfccs\n",
    "\n",
    "def get_MFCC(signal, sample_rate):\n",
    "    mfccs = librosa.feature.mfcc(y=signal, n_mfcc=13, sr=sample_rate)\n",
    "    delta_mfccs = librosa.feature.delta(mfccs)\n",
    "    delta_delta = librosa.feature.delta(mfccs, order=2)\n",
    "    mfccs_features = np.concatenate((mfccs, delta_mfccs, delta_delta))\n",
    "    return mfccs_features"
   ]
  },
  {
   "cell_type": "code",
   "execution_count": 23,
   "id": "056bf76e-eaea-4634-a526-b732907c8773",
   "metadata": {},
   "outputs": [
    {
     "name": "stdout",
     "output_type": "stream",
     "text": [
      "Shape of feature:  (39, 41)\n"
     ]
    }
   ],
   "source": [
    "# Test xem da du 39 feature chua\n",
    "\n",
    "mfcc_features = get_MFCC(data[0]['signal'], data[0]['fs'])\n",
    "print('Shape of feature: ', mfcc_features.shape)\n"
   ]
  },
  {
   "cell_type": "code",
   "execution_count": 25,
   "id": "d405e40d-1bbc-4d39-a175-73ab8eeccd5c",
   "metadata": {},
   "outputs": [],
   "source": [
    "# lay dac trung cua tat ca cac khau lenh don le\n",
    "files = [file for file in os.listdir('MFCC_feature/data_output')]\n",
    "# print(files[1])\n",
    "dataset = list()\n",
    "for d in data:\n",
    "    dataset_features = get_MFCC(d[\"signal\"], d[\"fs\"])\n",
    "    dataset.append([dataset_features, d['label']])"
   ]
  },
  {
   "cell_type": "code",
   "execution_count": 26,
   "id": "087fbf67-980a-42e8-96b6-4bbb17c1ae2d",
   "metadata": {},
   "outputs": [
    {
     "name": "stdout",
     "output_type": "stream",
     "text": [
      "shape:  (39, 35)\n",
      "label:  phai\n"
     ]
    }
   ],
   "source": [
    "print('shape: ', dataset[3][0].shape)\n",
    "print('label: ', dataset[3][1])"
   ]
  },
  {
   "cell_type": "code",
   "execution_count": 29,
   "id": "5b025bd3-8ed6-4ebc-80db-bcdc3eac401d",
   "metadata": {},
   "outputs": [
    {
     "name": "stdout",
     "output_type": "stream",
     "text": [
      "Example of MFFC result image\n"
     ]
    },
    {
     "data": {
      "image/png": "[encoded data removed]",
      "text/plain": [
       "<Figure size 432x288 with 1 Axes>"
      ]
     },
     "metadata": {
      "needs_background": "light"
     },
     "output_type": "display_data"
    }
   ],
   "source": [
    "print(\"Example of MFFC result image\")\n",
    "mffc_example = dataset[10][0]\n",
    "plt.xlabel(\"frames\")\n",
    "plt.ylabel(\"frequency\")\n",
    "plt.title(dataset[10][1])\n",
    "plt.imshow(mffc_example.T)\n",
    "plt.show()"
   ]
  },
  {
   "cell_type": "code",
   "execution_count": null,
   "id": "09647a1b-5c32-402b-ae3b-2345e30af5b5",
   "metadata": {},
   "outputs": [],
   "source": []
  }
 ],
 "metadata": {
  "kernelspec": {
   "display_name": "Python 3 (ipykernel)",
   "language": "python",
   "name": "python3"
  },
  "language_info": {
   "codemirror_mode": {
    "name": "ipython",
    "version": 3
   },
   "file_extension": ".py",
   "mimetype": "text/x-python",
   "name": "python",
   "nbconvert_exporter": "python",
   "pygments_lexer": "ipython3",
   "version": "3.9.7"
  }
 },
 "nbformat": 4,
 "nbformat_minor": 5
}
